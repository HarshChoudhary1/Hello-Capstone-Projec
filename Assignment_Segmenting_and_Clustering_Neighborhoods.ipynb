{
  "cells": [
    {
      "cell_type": "code",
      "source": [],
      "outputs": [],
      "execution_count": null,
      "metadata": {
        "collapsed": true,
        "outputExpanded": false,
        "jupyter": {
          "source_hidden": false,
          "outputs_hidden": false
        },
        "nteract": {
          "transient": {
            "deleting": false
          }
        }
      }
    },
    {
      "cell_type": "markdown",
      "source": [
        "<img src=\"https://upload.wikimedia.org/wikipedia/commons/thumb/3/38/Jupyter_logo.svg/1200px-Jupyter_logo.svg.png\" width=\"200\" height=\"200\">"
      ],
      "metadata": {
        "nteract": {
          "transient": {
            "deleting": false
          }
        }
      }
    },
    {
      "cell_type": "markdown",
      "source": [
        "<h1>  Import library's  </h1>"
      ],
      "metadata": {
        "nteract": {
          "transient": {
            "deleting": false
          }
        }
      }
    },
    {
      "cell_type": "code",
      "source": [
        "import requests\n",
        "import wikipedia as wp\n",
        "import numpy as np \n",
        "import pandas as pd\n",
        "from bs4 import BeautifulSoup "
      ],
      "outputs": [],
      "execution_count": null,
      "metadata": {
        "collapsed": true,
        "outputExpanded": false,
        "jupyter": {
          "source_hidden": false,
          "outputs_hidden": false
        },
        "nteract": {
          "transient": {
            "deleting": false
          }
        },
        "execution": {
          "iopub.status.busy": "2020-04-12T12:07:53.989Z",
          "iopub.execute_input": "2020-04-12T12:07:54.001Z",
          "shell.execute_reply": "2020-04-12T12:07:55.952Z",
          "iopub.status.idle": "2020-04-12T12:07:55.974Z"
        }
      }
    },
    {
      "cell_type": "markdown",
      "source": [
        "<h3>Retrive Url || assgine wikipedia page Path To Variable  </h3>"
      ],
      "metadata": {
        "nteract": {
          "transient": {
            "deleting": false
          }
        }
      }
    },
    {
      "cell_type": "code",
      "source": [
        "url=\"https://en.wikipedia.org/wiki/List_of_postal_codes_of_Canada:_M\""
      ],
      "outputs": [],
      "execution_count": null,
      "metadata": {
        "collapsed": true,
        "outputExpanded": false,
        "jupyter": {
          "source_hidden": false,
          "outputs_hidden": false
        },
        "nteract": {
          "transient": {
            "deleting": false
          }
        },
        "execution": {
          "iopub.status.busy": "2020-04-12T12:07:55.994Z",
          "iopub.execute_input": "2020-04-12T12:07:56.004Z",
          "iopub.status.idle": "2020-04-12T12:07:56.021Z",
          "shell.execute_reply": "2020-04-12T12:07:56.082Z"
        }
      }
    },
    {
      "cell_type": "markdown",
      "source": [
        "#### Requrst for get data from wikipedia page(List_of_postal_codes_of_Canada)</h4> "
      ],
      "metadata": {
        "nteract": {
          "transient": {
            "deleting": false
          }
        }
      }
    },
    {
      "cell_type": "code",
      "source": [
        "# Request Data\n",
        "r = requests.get(url)"
      ],
      "outputs": [],
      "execution_count": null,
      "metadata": {
        "collapsed": true,
        "outputExpanded": false,
        "jupyter": {
          "source_hidden": false,
          "outputs_hidden": false
        },
        "nteract": {
          "transient": {
            "deleting": false
          }
        },
        "execution": {
          "iopub.status.busy": "2020-04-12T12:07:56.043Z",
          "iopub.execute_input": "2020-04-12T12:07:56.056Z",
          "shell.execute_reply": "2020-04-12T12:07:56.613Z",
          "iopub.status.idle": "2020-04-12T12:07:56.640Z"
        }
      }
    },
    {
      "cell_type": "markdown",
      "source": [
        "### Use BeautifulSoup Library for Read or Fatch Html Tag's "
      ],
      "metadata": {
        "nteract": {
          "transient": {
            "deleting": false
          }
        }
      }
    },
    {
      "cell_type": "code",
      "source": [
        "# requested data as text\n",
        "html_doc = r.text\n",
        "# convert Requested data to BeautifulSoup result\n",
        "soup = BeautifulSoup(html_doc)\n",
        "# close connection\n",
        "r.close()"
      ],
      "outputs": [],
      "execution_count": null,
      "metadata": {
        "collapsed": true,
        "outputExpanded": false,
        "jupyter": {
          "source_hidden": false,
          "outputs_hidden": false
        },
        "nteract": {
          "transient": {
            "deleting": false
          }
        },
        "execution": {
          "iopub.status.busy": "2020-04-12T12:07:56.660Z",
          "iopub.execute_input": "2020-04-12T12:07:56.671Z",
          "iopub.status.idle": "2020-04-12T12:07:57.117Z",
          "shell.execute_reply": "2020-04-12T12:07:57.089Z"
        }
      }
    },
    {
      "cell_type": "markdown",
      "source": [
        "## Retrive Tabel Data From Html Using Loop's or Beautifull Soup Method's"
      ],
      "metadata": {
        "nteract": {
          "transient": {
            "deleting": false
          }
        }
      }
    },
    {
      "cell_type": "code",
      "source": [
        "# print(soup.prettify())\n",
        "\n",
        "d = [] # Creat empty list for append teble content\n",
        "Tab = soup.find('table') # find table tag in html \n",
        "tr = Tab.find_all('tr') # find table row Tag in html \n",
        "name=[] # empty list for append tabel header \n",
        "\n",
        "name1 = [name.append(i.text.strip()) for i in Tab.find_all(\"th\")] # loop for appending table header to name list \n",
        "\n",
        "for i in tr: # itrate item one by one i  n\n",
        "    l = i.find_all(\"td\") # all td Tag under tr tag\n",
        "    \n",
        "    if l :\n",
        "         d.append(l) # append td to d list\n",
        "new_clean_list = [] # empty list for append only string values \n",
        "for m in d : # loop for append values in new_list\n",
        "    Prob = m[0].text.strip()#\n",
        "    brob = m[1].text.strip()\n",
        "    norb = m[2].text.strip()\n",
        "    print(norb)\n",
        "    if brob !=\"Not assigned\": # contition for not append \"Not assigned\" values in list \n",
        "       new_clean_list.append([Prob, brob ,norb])\n",
        "    \n",
        "\n"
      ],
      "outputs": [],
      "execution_count": null,
      "metadata": {
        "collapsed": true,
        "outputExpanded": false,
        "jupyter": {
          "source_hidden": false,
          "outputs_hidden": false
        },
        "nteract": {
          "transient": {
            "deleting": false
          }
        },
        "execution": {
          "iopub.status.busy": "2020-04-12T12:07:57.135Z",
          "iopub.execute_input": "2020-04-12T12:07:57.146Z",
          "iopub.status.idle": "2020-04-12T12:07:57.236Z",
          "shell.execute_reply": "2020-04-12T12:07:57.521Z"
        }
      }
    },
    {
      "cell_type": "markdown",
      "source": [
        "### Convert List To DataFrame"
      ],
      "metadata": {
        "nteract": {
          "transient": {
            "deleting": false
          }
        }
      }
    },
    {
      "cell_type": "code",
      "source": [
        "df = pd.DataFrame(new_clean_list ,columns=name)\n",
        "df.head(12) # Top 10 Row's"
      ],
      "outputs": [],
      "execution_count": null,
      "metadata": {
        "collapsed": true,
        "outputExpanded": false,
        "jupyter": {
          "source_hidden": false,
          "outputs_hidden": false
        },
        "nteract": {
          "transient": {
            "deleting": false
          }
        },
        "execution": {
          "iopub.status.busy": "2020-04-12T12:07:57.252Z",
          "iopub.execute_input": "2020-04-12T12:07:57.265Z",
          "iopub.status.idle": "2020-04-12T12:07:57.293Z",
          "shell.execute_reply": "2020-04-12T12:07:57.528Z"
        }
      }
    },
    {
      "cell_type": "markdown",
      "source": [
        "#### Replce (/) to (,) In NeighborHood Columns"
      ],
      "metadata": {
        "nteract": {
          "transient": {
            "deleting": false
          }
        }
      }
    },
    {
      "cell_type": "code",
      "source": [
        "df = df.replace(to_replace= r'/', value= ',', regex=True)"
      ],
      "outputs": [],
      "execution_count": null,
      "metadata": {
        "collapsed": true,
        "outputExpanded": false,
        "jupyter": {
          "source_hidden": false,
          "outputs_hidden": false
        },
        "nteract": {
          "transient": {
            "deleting": false
          }
        },
        "execution": {
          "iopub.status.busy": "2020-04-12T12:07:57.312Z",
          "iopub.execute_input": "2020-04-12T12:07:57.325Z",
          "iopub.status.idle": "2020-04-12T12:07:57.342Z",
          "shell.execute_reply": "2020-04-12T12:07:57.537Z"
        }
      }
    },
    {
      "cell_type": "code",
      "source": [
        "print(df.head(12))\n",
        "postal_code = df['Postal code'].values\n",
        "p_c = list(postal_code)\n",
        "print(len(p_c))"
      ],
      "outputs": [],
      "execution_count": null,
      "metadata": {
        "collapsed": true,
        "outputExpanded": false,
        "jupyter": {
          "source_hidden": false,
          "outputs_hidden": false
        },
        "nteract": {
          "transient": {
            "deleting": false
          }
        },
        "execution": {
          "iopub.status.busy": "2020-04-12T12:13:11.459Z",
          "iopub.execute_input": "2020-04-12T12:13:11.464Z",
          "iopub.status.idle": "2020-04-12T12:13:11.473Z",
          "shell.execute_reply": "2020-04-12T12:13:11.477Z"
        }
      }
    },
    {
      "cell_type": "code",
      "source": [
        "geo_data = pd.read_csv(r\"C:\\Users\\Harsh Choudhary\\Downloads\\Geospatial_Coordinates (1).csv\", index_col = \"Postal Code\" )\n",
        "geo_data.head(10)\n",
        "df_1 = geo_data.loc[p_c]\n",
        "df_1\n",
        "df_final = df_1.loc[:,['Latitude' ,\"Longitude\"]].reset_index(drop=\"Postal Code\")\n",
        "df_final[['Latitude' ,\"Longitude\"]] = df_final[['Latitude' ,\"Longitude\"]].astype('str')\n",
        "\n",
        "df_5= df.join(df_final )\n",
        "df_5"
      ],
      "outputs": [
        {
          "output_type": "execute_result",
          "execution_count": 59,
          "data": {
            "text/plain": [
              "    Postal code           Borough  \\\n",
              "0           M3A        North York   \n",
              "1           M4A        North York   \n",
              "2           M5A  Downtown Toronto   \n",
              "3           M6A        North York   \n",
              "4           M7A  Downtown Toronto   \n",
              "..          ...               ...   \n",
              "98          M8X         Etobicoke   \n",
              "99          M4Y  Downtown Toronto   \n",
              "100         M7Y      East Toronto   \n",
              "101         M8Y         Etobicoke   \n",
              "102         M8Z         Etobicoke   \n",
              "\n",
              "                                          Neighborhood            Latitude  \\\n",
              "0                                            Parkwoods          43.7532586   \n",
              "1                                     Victoria Village  43.725882299999995   \n",
              "2                           Regent Park , Harbourfront          43.6542599   \n",
              "3                    Lawrence Manor , Lawrence Heights  43.718517999999996   \n",
              "4         Queen's Park , Ontario Provincial Government          43.6623015   \n",
              "..                                                 ...                 ...   \n",
              "98    The Kingsway , Montgomery Road  , Old Mill North  43.653653600000005   \n",
              "99                                Church and Wellesley          43.6658599   \n",
              "100              Business reply mail Processing CentrE          43.6627439   \n",
              "101  Old Mill South , King's Mill Park , Sunnylea ,...          43.6362579   \n",
              "102  Mimico NW , The Queensway West , South of Bloo...          43.6288408   \n",
              "\n",
              "              Longitude  \n",
              "0           -79.3296565  \n",
              "1    -79.31557159999998  \n",
              "2           -79.3606359  \n",
              "3    -79.46476329999999  \n",
              "4           -79.3894938  \n",
              "..                  ...  \n",
              "98          -79.5069436  \n",
              "99   -79.38315990000001  \n",
              "100          -79.321558  \n",
              "101  -79.49850909999999  \n",
              "102  -79.52099940000001  \n",
              "\n",
              "[103 rows x 5 columns]"
            ],
            "text/html": [
              "<div>\n",
              "<style scoped>\n",
              "    .dataframe tbody tr th:only-of-type {\n",
              "        vertical-align: middle;\n",
              "    }\n",
              "\n",
              "    .dataframe tbody tr th {\n",
              "        vertical-align: top;\n",
              "    }\n",
              "\n",
              "    .dataframe thead th {\n",
              "        text-align: right;\n",
              "    }\n",
              "</style>\n",
              "<table border=\"1\" class=\"dataframe\">\n",
              "  <thead>\n",
              "    <tr style=\"text-align: right;\">\n",
              "      <th></th>\n",
              "      <th>Postal code</th>\n",
              "      <th>Borough</th>\n",
              "      <th>Neighborhood</th>\n",
              "      <th>Latitude</th>\n",
              "      <th>Longitude</th>\n",
              "    </tr>\n",
              "  </thead>\n",
              "  <tbody>\n",
              "    <tr>\n",
              "      <th>0</th>\n",
              "      <td>M3A</td>\n",
              "      <td>North York</td>\n",
              "      <td>Parkwoods</td>\n",
              "      <td>43.7532586</td>\n",
              "      <td>-79.3296565</td>\n",
              "    </tr>\n",
              "    <tr>\n",
              "      <th>1</th>\n",
              "      <td>M4A</td>\n",
              "      <td>North York</td>\n",
              "      <td>Victoria Village</td>\n",
              "      <td>43.725882299999995</td>\n",
              "      <td>-79.31557159999998</td>\n",
              "    </tr>\n",
              "    <tr>\n",
              "      <th>2</th>\n",
              "      <td>M5A</td>\n",
              "      <td>Downtown Toronto</td>\n",
              "      <td>Regent Park , Harbourfront</td>\n",
              "      <td>43.6542599</td>\n",
              "      <td>-79.3606359</td>\n",
              "    </tr>\n",
              "    <tr>\n",
              "      <th>3</th>\n",
              "      <td>M6A</td>\n",
              "      <td>North York</td>\n",
              "      <td>Lawrence Manor , Lawrence Heights</td>\n",
              "      <td>43.718517999999996</td>\n",
              "      <td>-79.46476329999999</td>\n",
              "    </tr>\n",
              "    <tr>\n",
              "      <th>4</th>\n",
              "      <td>M7A</td>\n",
              "      <td>Downtown Toronto</td>\n",
              "      <td>Queen's Park , Ontario Provincial Government</td>\n",
              "      <td>43.6623015</td>\n",
              "      <td>-79.3894938</td>\n",
              "    </tr>\n",
              "    <tr>\n",
              "      <th>...</th>\n",
              "      <td>...</td>\n",
              "      <td>...</td>\n",
              "      <td>...</td>\n",
              "      <td>...</td>\n",
              "      <td>...</td>\n",
              "    </tr>\n",
              "    <tr>\n",
              "      <th>98</th>\n",
              "      <td>M8X</td>\n",
              "      <td>Etobicoke</td>\n",
              "      <td>The Kingsway , Montgomery Road  , Old Mill North</td>\n",
              "      <td>43.653653600000005</td>\n",
              "      <td>-79.5069436</td>\n",
              "    </tr>\n",
              "    <tr>\n",
              "      <th>99</th>\n",
              "      <td>M4Y</td>\n",
              "      <td>Downtown Toronto</td>\n",
              "      <td>Church and Wellesley</td>\n",
              "      <td>43.6658599</td>\n",
              "      <td>-79.38315990000001</td>\n",
              "    </tr>\n",
              "    <tr>\n",
              "      <th>100</th>\n",
              "      <td>M7Y</td>\n",
              "      <td>East Toronto</td>\n",
              "      <td>Business reply mail Processing CentrE</td>\n",
              "      <td>43.6627439</td>\n",
              "      <td>-79.321558</td>\n",
              "    </tr>\n",
              "    <tr>\n",
              "      <th>101</th>\n",
              "      <td>M8Y</td>\n",
              "      <td>Etobicoke</td>\n",
              "      <td>Old Mill South , King's Mill Park , Sunnylea ,...</td>\n",
              "      <td>43.6362579</td>\n",
              "      <td>-79.49850909999999</td>\n",
              "    </tr>\n",
              "    <tr>\n",
              "      <th>102</th>\n",
              "      <td>M8Z</td>\n",
              "      <td>Etobicoke</td>\n",
              "      <td>Mimico NW , The Queensway West , South of Bloo...</td>\n",
              "      <td>43.6288408</td>\n",
              "      <td>-79.52099940000001</td>\n",
              "    </tr>\n",
              "  </tbody>\n",
              "</table>\n",
              "<p>103 rows × 5 columns</p>\n",
              "</div>"
            ]
          },
          "metadata": {}
        }
      ],
      "execution_count": 59,
      "metadata": {
        "collapsed": true,
        "outputExpanded": false,
        "jupyter": {
          "source_hidden": false,
          "outputs_hidden": false
        },
        "nteract": {
          "transient": {
            "deleting": false
          }
        },
        "execution": {
          "iopub.status.busy": "2020-04-12T12:30:07.222Z",
          "iopub.execute_input": "2020-04-12T12:30:07.247Z",
          "iopub.status.idle": "2020-04-12T12:30:07.268Z",
          "shell.execute_reply": "2020-04-12T12:30:07.286Z"
        }
      }
    },
    {
      "cell_type": "code",
      "source": [
        "df_5.shape"
      ],
      "outputs": [
        {
          "output_type": "execute_result",
          "execution_count": 60,
          "data": {
            "text/plain": [
              "(103, 5)"
            ]
          },
          "metadata": {}
        }
      ],
      "execution_count": 60,
      "metadata": {
        "collapsed": true,
        "outputExpanded": false,
        "jupyter": {
          "source_hidden": false,
          "outputs_hidden": false
        },
        "nteract": {
          "transient": {
            "deleting": false
          }
        },
        "execution": {
          "iopub.status.busy": "2020-04-12T12:30:09.704Z",
          "iopub.execute_input": "2020-04-12T12:30:09.714Z",
          "iopub.status.idle": "2020-04-12T12:30:09.727Z",
          "shell.execute_reply": "2020-04-12T12:30:09.730Z"
        }
      }
    },
    {
      "cell_type": "code",
      "source": [],
      "outputs": [],
      "execution_count": null,
      "metadata": {
        "collapsed": true,
        "outputExpanded": false,
        "jupyter": {
          "source_hidden": false,
          "outputs_hidden": false
        },
        "nteract": {
          "transient": {
            "deleting": false
          }
        }
      }
    }
  ],
  "metadata": {
    "kernel_info": {
      "name": "python3"
    },
    "language_info": {
      "name": "python",
      "version": "3.7.4",
      "mimetype": "text/x-python",
      "codemirror_mode": {
        "name": "ipython",
        "version": 3
      },
      "pygments_lexer": "ipython3",
      "nbconvert_exporter": "python",
      "file_extension": ".py"
    },
    "kernelspec": {
      "argv": [
        "C:/ProgramData/Miniconda3\\python.exe",
        "-m",
        "ipykernel_launcher",
        "-f",
        "{connection_file}"
      ],
      "display_name": "Python 3",
      "language": "python",
      "name": "python3"
    },
    "nteract": {
      "version": "0.22.4"
    }
  },
  "nbformat": 4,
  "nbformat_minor": 0
}